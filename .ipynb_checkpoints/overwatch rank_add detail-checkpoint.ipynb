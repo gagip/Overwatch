{
 "cells": [
  {
   "cell_type": "code",
   "execution_count": 65,
   "metadata": {},
   "outputs": [],
   "source": [
    "# 크롤링\n",
    "import requests\n",
    "from bs4 import BeautifulSoup\n",
    "\n",
    "# 데이터 분석\n",
    "import numpy as np\n",
    "import pandas as pd\n",
    "import matplotlib.pyplot as plt\n",
    "\n",
    "from IPython.display import clear_output"
   ]
  },
  {
   "cell_type": "markdown",
   "metadata": {},
   "source": [
    "# 크롤링"
   ]
  },
  {
   "cell_type": "markdown",
   "metadata": {},
   "source": [
    "## 리더보드 테이블"
   ]
  },
  {
   "cell_type": "code",
   "execution_count": 85,
   "metadata": {},
   "outputs": [
    {
     "name": "stdout",
     "output_type": "stream",
     "text": [
      "Mission complete\n"
     ]
    },
    {
     "data": {
      "text/html": [
       "<div>\n",
       "<style scoped>\n",
       "    .dataframe tbody tr th:only-of-type {\n",
       "        vertical-align: middle;\n",
       "    }\n",
       "\n",
       "    .dataframe tbody tr th {\n",
       "        vertical-align: top;\n",
       "    }\n",
       "\n",
       "    .dataframe thead th {\n",
       "        text-align: right;\n",
       "    }\n",
       "</style>\n",
       "<table border=\"1\" class=\"dataframe\">\n",
       "  <thead>\n",
       "    <tr style=\"text-align: right;\">\n",
       "      <th></th>\n",
       "      <th>0</th>\n",
       "      <th>1</th>\n",
       "      <th>2</th>\n",
       "      <th>3</th>\n",
       "      <th>4</th>\n",
       "      <th>5</th>\n",
       "      <th>6</th>\n",
       "      <th>7</th>\n",
       "      <th>8</th>\n",
       "      <th>9</th>\n",
       "      <th>10</th>\n",
       "      <th>11</th>\n",
       "      <th>12</th>\n",
       "      <th>13</th>\n",
       "      <th>14</th>\n",
       "      <th>15</th>\n",
       "    </tr>\n",
       "  </thead>\n",
       "  <tbody>\n",
       "    <tr>\n",
       "      <th>0</th>\n",
       "      <td>86176089042104101033252</td>\n",
       "      <td>21,901</td>\n",
       "      <td>PC</td>\n",
       "      <td>진짜얘왜저래</td>\n",
       "      <td>2.63 : 1</td>\n",
       "      <td>48</td>\n",
       "      <td>Lv. 246</td>\n",
       "      <td>18.2\\n                                    /\\n ...</td>\n",
       "      <td>\\n\\n                                1482\\n    ...</td>\n",
       "      <td>\\n                            01:07\\n         ...</td>\n",
       "      <td>61W</td>\n",
       "      <td>66L</td>\n",
       "      <td>21 hours</td>\n",
       "      <td>Sigma</td>\n",
       "      <td>Ana</td>\n",
       "      <td>Genji</td>\n",
       "    </tr>\n",
       "    <tr>\n",
       "      <th>1</th>\n",
       "      <td>9038198178199013175052</td>\n",
       "      <td>21,902</td>\n",
       "      <td>PC</td>\n",
       "      <td>ishal12</td>\n",
       "      <td>1.95 : 1</td>\n",
       "      <td>48</td>\n",
       "      <td>Lv. 169</td>\n",
       "      <td>17.0\\n                                    /\\n ...</td>\n",
       "      <td>\\n\\n                                1482\\n    ...</td>\n",
       "      <td>\\n                            01:14\\n         ...</td>\n",
       "      <td>72W</td>\n",
       "      <td>77L</td>\n",
       "      <td>28 hours</td>\n",
       "      <td>Zenyatta</td>\n",
       "      <td>Orisa</td>\n",
       "      <td>Ana</td>\n",
       "    </tr>\n",
       "    <tr>\n",
       "      <th>2</th>\n",
       "      <td>169054195087060061009099</td>\n",
       "      <td>21,903</td>\n",
       "      <td>PC</td>\n",
       "      <td>크러쉬</td>\n",
       "      <td>1.92 : 1</td>\n",
       "      <td>55</td>\n",
       "      <td>Lv. 291</td>\n",
       "      <td>14.8\\n                                    /\\n ...</td>\n",
       "      <td>\\n\\n                                1481\\n    ...</td>\n",
       "      <td>\\n                            00:50\\n         ...</td>\n",
       "      <td>86W</td>\n",
       "      <td>71L</td>\n",
       "      <td>30 hours</td>\n",
       "      <td>Lúcio</td>\n",
       "      <td>Zarya</td>\n",
       "      <td>Reinhardt</td>\n",
       "    </tr>\n",
       "    <tr>\n",
       "      <th>3</th>\n",
       "      <td>117095174076231187078039</td>\n",
       "      <td>21,904</td>\n",
       "      <td>PC</td>\n",
       "      <td>soccer</td>\n",
       "      <td>2.42 : 1</td>\n",
       "      <td>46</td>\n",
       "      <td>Lv. 384</td>\n",
       "      <td>20.9\\n                                    /\\n ...</td>\n",
       "      <td>\\n\\n                                1481\\n    ...</td>\n",
       "      <td>\\n                            00:44\\n         ...</td>\n",
       "      <td>78W</td>\n",
       "      <td>93L</td>\n",
       "      <td>33 hours</td>\n",
       "      <td>McCree</td>\n",
       "      <td>Doomfist</td>\n",
       "      <td>Reinhardt</td>\n",
       "    </tr>\n",
       "    <tr>\n",
       "      <th>4</th>\n",
       "      <td>196117026121113245181084</td>\n",
       "      <td>21,905</td>\n",
       "      <td>PC</td>\n",
       "      <td>kongsday</td>\n",
       "      <td>2.29 : 1</td>\n",
       "      <td>60</td>\n",
       "      <td>Lv. 201</td>\n",
       "      <td>14.9\\n                                    /\\n ...</td>\n",
       "      <td>\\n\\n                                1480\\n    ...</td>\n",
       "      <td>\\n                            00:33\\n         ...</td>\n",
       "      <td>26W</td>\n",
       "      <td>17L</td>\n",
       "      <td>7 hours</td>\n",
       "      <td>Baptiste</td>\n",
       "      <td>McCree</td>\n",
       "      <td>Ana</td>\n",
       "    </tr>\n",
       "    <tr>\n",
       "      <th>...</th>\n",
       "      <td>...</td>\n",
       "      <td>...</td>\n",
       "      <td>...</td>\n",
       "      <td>...</td>\n",
       "      <td>...</td>\n",
       "      <td>...</td>\n",
       "      <td>...</td>\n",
       "      <td>...</td>\n",
       "      <td>...</td>\n",
       "      <td>...</td>\n",
       "      <td>...</td>\n",
       "      <td>...</td>\n",
       "      <td>...</td>\n",
       "      <td>...</td>\n",
       "      <td>...</td>\n",
       "      <td>...</td>\n",
       "    </tr>\n",
       "    <tr>\n",
       "      <th>1072</th>\n",
       "      <td>27078075244099180087016</td>\n",
       "      <td>22,973</td>\n",
       "      <td>PC</td>\n",
       "      <td>소리없는검</td>\n",
       "      <td>1.9 : 1</td>\n",
       "      <td>49</td>\n",
       "      <td>Lv. 359</td>\n",
       "      <td>20.2\\n                                    /\\n ...</td>\n",
       "      <td>\\n\\n                                540\\n     ...</td>\n",
       "      <td>\\n                            00:54\\n         ...</td>\n",
       "      <td>141W</td>\n",
       "      <td>147L</td>\n",
       "      <td>53 hours</td>\n",
       "      <td>Junkrat</td>\n",
       "      <td>Moira</td>\n",
       "      <td>Reinhardt</td>\n",
       "    </tr>\n",
       "    <tr>\n",
       "      <th>1073</th>\n",
       "      <td>243116241127093034212249</td>\n",
       "      <td>22,974</td>\n",
       "      <td>PC</td>\n",
       "      <td>쌍바놔놔</td>\n",
       "      <td>1.88 : 1</td>\n",
       "      <td>37</td>\n",
       "      <td>Lv. 144</td>\n",
       "      <td>14.9\\n                                    /\\n ...</td>\n",
       "      <td>\\n\\n                                538\\n     ...</td>\n",
       "      <td>\\n                            00:35\\n         ...</td>\n",
       "      <td>18W</td>\n",
       "      <td>31L</td>\n",
       "      <td>8 hours</td>\n",
       "      <td>Widowmaker</td>\n",
       "      <td>McCree</td>\n",
       "      <td>Tracer</td>\n",
       "    </tr>\n",
       "    <tr>\n",
       "      <th>1074</th>\n",
       "      <td>238047226154239156241160</td>\n",
       "      <td>22,975</td>\n",
       "      <td>PC</td>\n",
       "      <td>DoomPeace</td>\n",
       "      <td>2.13 : 1</td>\n",
       "      <td>46</td>\n",
       "      <td>Lv. 70</td>\n",
       "      <td>15.9\\n                                    /\\n ...</td>\n",
       "      <td>\\n\\n                                535\\n     ...</td>\n",
       "      <td>\\n                            00:34\\n         ...</td>\n",
       "      <td>18W</td>\n",
       "      <td>21L</td>\n",
       "      <td>6 hours</td>\n",
       "      <td>Zenyatta</td>\n",
       "      <td>Moira</td>\n",
       "      <td>Baptiste</td>\n",
       "    </tr>\n",
       "    <tr>\n",
       "      <th>1075</th>\n",
       "      <td>130145216197178069097108</td>\n",
       "      <td>22,976</td>\n",
       "      <td>PC</td>\n",
       "      <td>랜클리어</td>\n",
       "      <td>1.24 : 1</td>\n",
       "      <td>40</td>\n",
       "      <td>Lv. 161</td>\n",
       "      <td>14.2\\n                                    /\\n ...</td>\n",
       "      <td>\\n\\n                                515\\n     ...</td>\n",
       "      <td>\\n                            00:08\\n         ...</td>\n",
       "      <td>10W</td>\n",
       "      <td>15L</td>\n",
       "      <td>4 hours</td>\n",
       "      <td>Moira</td>\n",
       "      <td>D.Va</td>\n",
       "      <td>Junkrat</td>\n",
       "    </tr>\n",
       "    <tr>\n",
       "      <th>1076</th>\n",
       "      <td>238088121051143004100151</td>\n",
       "      <td>22,977</td>\n",
       "      <td>PC</td>\n",
       "      <td>COOK</td>\n",
       "      <td>1.64 : 1</td>\n",
       "      <td>49</td>\n",
       "      <td>Lv. 333</td>\n",
       "      <td>13.7\\n                                    /\\n ...</td>\n",
       "      <td>\\n\\n                                504\\n     ...</td>\n",
       "      <td>\\n                            00:36\\n         ...</td>\n",
       "      <td>19W</td>\n",
       "      <td>20L</td>\n",
       "      <td>6 hours</td>\n",
       "      <td>Reinhardt</td>\n",
       "      <td>Junkrat</td>\n",
       "      <td>Roadhog</td>\n",
       "    </tr>\n",
       "  </tbody>\n",
       "</table>\n",
       "<p>1077 rows × 16 columns</p>\n",
       "</div>"
      ],
      "text/plain": [
       "                             0       1   2          3         4   5        6  \\\n",
       "0      86176089042104101033252  21,901  PC     진짜얘왜저래  2.63 : 1  48  Lv. 246   \n",
       "1       9038198178199013175052  21,902  PC    ishal12  1.95 : 1  48  Lv. 169   \n",
       "2     169054195087060061009099  21,903  PC        크러쉬  1.92 : 1  55  Lv. 291   \n",
       "3     117095174076231187078039  21,904  PC     soccer  2.42 : 1  46  Lv. 384   \n",
       "4     196117026121113245181084  21,905  PC   kongsday  2.29 : 1  60  Lv. 201   \n",
       "...                        ...     ...  ..        ...       ...  ..      ...   \n",
       "1072   27078075244099180087016  22,973  PC      소리없는검   1.9 : 1  49  Lv. 359   \n",
       "1073  243116241127093034212249  22,974  PC       쌍바놔놔  1.88 : 1  37  Lv. 144   \n",
       "1074  238047226154239156241160  22,975  PC  DoomPeace  2.13 : 1  46   Lv. 70   \n",
       "1075  130145216197178069097108  22,976  PC       랜클리어  1.24 : 1  40  Lv. 161   \n",
       "1076  238088121051143004100151  22,977  PC       COOK  1.64 : 1  49  Lv. 333   \n",
       "\n",
       "                                                      7  \\\n",
       "0     18.2\\n                                    /\\n ...   \n",
       "1     17.0\\n                                    /\\n ...   \n",
       "2     14.8\\n                                    /\\n ...   \n",
       "3     20.9\\n                                    /\\n ...   \n",
       "4     14.9\\n                                    /\\n ...   \n",
       "...                                                 ...   \n",
       "1072  20.2\\n                                    /\\n ...   \n",
       "1073  14.9\\n                                    /\\n ...   \n",
       "1074  15.9\\n                                    /\\n ...   \n",
       "1075  14.2\\n                                    /\\n ...   \n",
       "1076  13.7\\n                                    /\\n ...   \n",
       "\n",
       "                                                      8  \\\n",
       "0     \\n\\n                                1482\\n    ...   \n",
       "1     \\n\\n                                1482\\n    ...   \n",
       "2     \\n\\n                                1481\\n    ...   \n",
       "3     \\n\\n                                1481\\n    ...   \n",
       "4     \\n\\n                                1480\\n    ...   \n",
       "...                                                 ...   \n",
       "1072  \\n\\n                                540\\n     ...   \n",
       "1073  \\n\\n                                538\\n     ...   \n",
       "1074  \\n\\n                                535\\n     ...   \n",
       "1075  \\n\\n                                515\\n     ...   \n",
       "1076  \\n\\n                                504\\n     ...   \n",
       "\n",
       "                                                      9    10    11        12  \\\n",
       "0     \\n                            01:07\\n         ...   61W   66L  21 hours   \n",
       "1     \\n                            01:14\\n         ...   72W   77L  28 hours   \n",
       "2     \\n                            00:50\\n         ...   86W   71L  30 hours   \n",
       "3     \\n                            00:44\\n         ...   78W   93L  33 hours   \n",
       "4     \\n                            00:33\\n         ...   26W   17L   7 hours   \n",
       "...                                                 ...   ...   ...       ...   \n",
       "1072  \\n                            00:54\\n         ...  141W  147L  53 hours   \n",
       "1073  \\n                            00:35\\n         ...   18W   31L   8 hours   \n",
       "1074  \\n                            00:34\\n         ...   18W   21L   6 hours   \n",
       "1075  \\n                            00:08\\n         ...   10W   15L   4 hours   \n",
       "1076  \\n                            00:36\\n         ...   19W   20L   6 hours   \n",
       "\n",
       "              13        14         15  \n",
       "0          Sigma       Ana      Genji  \n",
       "1       Zenyatta     Orisa        Ana  \n",
       "2          Lúcio     Zarya  Reinhardt  \n",
       "3         McCree  Doomfist  Reinhardt  \n",
       "4       Baptiste    McCree        Ana  \n",
       "...          ...       ...        ...  \n",
       "1072     Junkrat     Moira  Reinhardt  \n",
       "1073  Widowmaker    McCree     Tracer  \n",
       "1074    Zenyatta     Moira   Baptiste  \n",
       "1075       Moira      D.Va    Junkrat  \n",
       "1076   Reinhardt   Junkrat    Roadhog  \n",
       "\n",
       "[1077 rows x 16 columns]"
      ]
     },
     "execution_count": 85,
     "metadata": {},
     "output_type": "execute_result"
    }
   ],
   "source": [
    "data = []\n",
    "maximum = 253 \n",
    "\n",
    "\n",
    "def find_tag(tag, class1):\n",
    "    result = tr.find(tag, class_=class1)\n",
    "    if result != None:\n",
    "        row.append(result.get_text())\n",
    "    else: row.append(-1)\n",
    "    \n",
    "for page in range(1,maximum):\n",
    "\n",
    "    url = 'https://overwatch.op.gg/leaderboards?platform=pc&role_id=0&page={}'.format(page)\n",
    "    resp = requests.get(url)\n",
    "\n",
    "    soup = BeautifulSoup(resp.text)\n",
    "\n",
    "    # table tag\n",
    "    table = soup.find('table', class_='LeaderBoardsTable')\n",
    "\n",
    "    # tag\n",
    "    for tr in table.find('tbody').find_all('tr', {'data-uid':True}):\n",
    "        row = []\n",
    "        print(tr)\n",
    "        # data base id\n",
    "        row.append(tr['data-uid'])\n",
    "        # #, 플랫폼 \n",
    "        for span in tr.find_all('span'):\n",
    "            row.append(span.get_text())\n",
    "        # 플레이어, K/D, 승률\n",
    "        for b in tr.find_all('b'):\n",
    "            row.append(b.get_text())\n",
    "        # 레벨, 상세 K/D\n",
    "        for em in tr.find_all('em'):\n",
    "            row.append(em.get_text().strip())\n",
    "        # 점수\n",
    "        find_tag('td', 'ContentCell ContentCell-SkillRating')\n",
    "        #  폭주 시간\n",
    "        find_tag('td', 'ContentCell ContentCell-AvgFire')\n",
    "        # 승\n",
    "        find_tag('div', 'Win')\n",
    "        # 패\n",
    "        find_tag('div', 'Lose')\n",
    "        # 플레이 시간\n",
    "        find_tag('td', 'ContentCell ContentCell-PlayTime')\n",
    "        # 모스트 영웅\n",
    "        for heros in tr.find_all('td', class_='ContentCell ContentCell-MostHeros'):\n",
    "            for hero in heros.find_all('img', alt=True): # 모스트 영웅은 img로 되어 있다.\n",
    "                row.append(hero['alt'])\n",
    "        \n",
    "        # 하나의 행을 data에 축적\n",
    "        data.append(row)\n",
    "    \n",
    "    # 진행사항 출력\n",
    "    print(page, \" page complete\")\n",
    "    clear_output(wait=True)\n",
    "print(\"Mission complete\")\n",
    "df = pd.DataFrame(data)\n",
    "df"
   ]
  },
  {
   "cell_type": "code",
   "execution_count": 70,
   "metadata": {
    "scrolled": true
   },
   "outputs": [
    {
     "ename": "ValueError",
     "evalue": "Length mismatch: Expected axis has 0 elements, new values have 16 elements",
     "output_type": "error",
     "traceback": [
      "\u001b[0;31m---------------------------------------------------------------------------\u001b[0m",
      "\u001b[0;31mValueError\u001b[0m                                Traceback (most recent call last)",
      "\u001b[0;32m<ipython-input-70-de391a23ea1a>\u001b[0m in \u001b[0;36m<module>\u001b[0;34m\u001b[0m\n\u001b[1;32m      1\u001b[0m \u001b[0;31m# header 이름 설정\u001b[0m\u001b[0;34m\u001b[0m\u001b[0;34m\u001b[0m\u001b[0;34m\u001b[0m\u001b[0m\n\u001b[1;32m      2\u001b[0m df.columns = ['DBid', 'Rank', 'Platform', 'Nickname', 'K/D', 'Win_rate', 'Level', 'Kill/Death', 'Rating', 'Time_on_Fire', \n\u001b[0;32m----> 3\u001b[0;31m      'Win', 'Lose', 'Playtime', 'Most1', 'Most2', 'Most3']\n\u001b[0m\u001b[1;32m      4\u001b[0m \u001b[0mdf\u001b[0m\u001b[0;34m.\u001b[0m\u001b[0mhead\u001b[0m\u001b[0;34m(\u001b[0m\u001b[0;34m)\u001b[0m\u001b[0;34m\u001b[0m\u001b[0;34m\u001b[0m\u001b[0m\n",
      "\u001b[0;32m~/anaconda3/envs/data_analysis/lib/python3.7/site-packages/pandas/core/generic.py\u001b[0m in \u001b[0;36m__setattr__\u001b[0;34m(self, name, value)\u001b[0m\n\u001b[1;32m   5285\u001b[0m         \u001b[0;32mtry\u001b[0m\u001b[0;34m:\u001b[0m\u001b[0;34m\u001b[0m\u001b[0;34m\u001b[0m\u001b[0m\n\u001b[1;32m   5286\u001b[0m             \u001b[0mobject\u001b[0m\u001b[0;34m.\u001b[0m\u001b[0m__getattribute__\u001b[0m\u001b[0;34m(\u001b[0m\u001b[0mself\u001b[0m\u001b[0;34m,\u001b[0m \u001b[0mname\u001b[0m\u001b[0;34m)\u001b[0m\u001b[0;34m\u001b[0m\u001b[0;34m\u001b[0m\u001b[0m\n\u001b[0;32m-> 5287\u001b[0;31m             \u001b[0;32mreturn\u001b[0m \u001b[0mobject\u001b[0m\u001b[0;34m.\u001b[0m\u001b[0m__setattr__\u001b[0m\u001b[0;34m(\u001b[0m\u001b[0mself\u001b[0m\u001b[0;34m,\u001b[0m \u001b[0mname\u001b[0m\u001b[0;34m,\u001b[0m \u001b[0mvalue\u001b[0m\u001b[0;34m)\u001b[0m\u001b[0;34m\u001b[0m\u001b[0;34m\u001b[0m\u001b[0m\n\u001b[0m\u001b[1;32m   5288\u001b[0m         \u001b[0;32mexcept\u001b[0m \u001b[0mAttributeError\u001b[0m\u001b[0;34m:\u001b[0m\u001b[0;34m\u001b[0m\u001b[0;34m\u001b[0m\u001b[0m\n\u001b[1;32m   5289\u001b[0m             \u001b[0;32mpass\u001b[0m\u001b[0;34m\u001b[0m\u001b[0;34m\u001b[0m\u001b[0m\n",
      "\u001b[0;32mpandas/_libs/properties.pyx\u001b[0m in \u001b[0;36mpandas._libs.properties.AxisProperty.__set__\u001b[0;34m()\u001b[0m\n",
      "\u001b[0;32m~/anaconda3/envs/data_analysis/lib/python3.7/site-packages/pandas/core/generic.py\u001b[0m in \u001b[0;36m_set_axis\u001b[0;34m(self, axis, labels)\u001b[0m\n\u001b[1;32m    659\u001b[0m \u001b[0;34m\u001b[0m\u001b[0m\n\u001b[1;32m    660\u001b[0m     \u001b[0;32mdef\u001b[0m \u001b[0m_set_axis\u001b[0m\u001b[0;34m(\u001b[0m\u001b[0mself\u001b[0m\u001b[0;34m,\u001b[0m \u001b[0maxis\u001b[0m\u001b[0;34m,\u001b[0m \u001b[0mlabels\u001b[0m\u001b[0;34m)\u001b[0m \u001b[0;34m->\u001b[0m \u001b[0;32mNone\u001b[0m\u001b[0;34m:\u001b[0m\u001b[0;34m\u001b[0m\u001b[0;34m\u001b[0m\u001b[0m\n\u001b[0;32m--> 661\u001b[0;31m         \u001b[0mself\u001b[0m\u001b[0;34m.\u001b[0m\u001b[0m_data\u001b[0m\u001b[0;34m.\u001b[0m\u001b[0mset_axis\u001b[0m\u001b[0;34m(\u001b[0m\u001b[0maxis\u001b[0m\u001b[0;34m,\u001b[0m \u001b[0mlabels\u001b[0m\u001b[0;34m)\u001b[0m\u001b[0;34m\u001b[0m\u001b[0;34m\u001b[0m\u001b[0m\n\u001b[0m\u001b[1;32m    662\u001b[0m         \u001b[0mself\u001b[0m\u001b[0;34m.\u001b[0m\u001b[0m_clear_item_cache\u001b[0m\u001b[0;34m(\u001b[0m\u001b[0;34m)\u001b[0m\u001b[0;34m\u001b[0m\u001b[0;34m\u001b[0m\u001b[0m\n\u001b[1;32m    663\u001b[0m \u001b[0;34m\u001b[0m\u001b[0m\n",
      "\u001b[0;32m~/anaconda3/envs/data_analysis/lib/python3.7/site-packages/pandas/core/internals/managers.py\u001b[0m in \u001b[0;36mset_axis\u001b[0;34m(self, axis, new_labels)\u001b[0m\n\u001b[1;32m    176\u001b[0m         \u001b[0;32mif\u001b[0m \u001b[0mnew_len\u001b[0m \u001b[0;34m!=\u001b[0m \u001b[0mold_len\u001b[0m\u001b[0;34m:\u001b[0m\u001b[0;34m\u001b[0m\u001b[0;34m\u001b[0m\u001b[0m\n\u001b[1;32m    177\u001b[0m             raise ValueError(\n\u001b[0;32m--> 178\u001b[0;31m                 \u001b[0;34mf\"Length mismatch: Expected axis has {old_len} elements, new \"\u001b[0m\u001b[0;34m\u001b[0m\u001b[0;34m\u001b[0m\u001b[0m\n\u001b[0m\u001b[1;32m    179\u001b[0m                 \u001b[0;34mf\"values have {new_len} elements\"\u001b[0m\u001b[0;34m\u001b[0m\u001b[0;34m\u001b[0m\u001b[0m\n\u001b[1;32m    180\u001b[0m             )\n",
      "\u001b[0;31mValueError\u001b[0m: Length mismatch: Expected axis has 0 elements, new values have 16 elements"
     ]
    }
   ],
   "source": [
    "# header 이름 설정\n",
    "df.columns = ['DBid', 'Rank', 'Platform', 'Nickname', 'K/D', 'Win_rate', 'Level', 'Kill/Death', 'Rating', 'Time_on_Fire', \n",
    "     'Win', 'Lose', 'Playtime', 'Most1', 'Most2', 'Most3']\n",
    "df.head()"
   ]
  },
  {
   "cell_type": "code",
   "execution_count": null,
   "metadata": {
    "scrolled": false
   },
   "outputs": [],
   "source": [
    "df.info()"
   ]
  },
  {
   "cell_type": "code",
   "execution_count": null,
   "metadata": {},
   "outputs": [],
   "source": [
    "df"
   ]
  },
  {
   "cell_type": "markdown",
   "metadata": {},
   "source": [
    "## 상세 테이블"
   ]
  },
  {
   "cell_type": "code",
   "execution_count": null,
   "metadata": {},
   "outputs": [],
   "source": [
    "# 종합 통계에서 필요한 라벨\n",
    "stats = ['Damage dealt/Game', 'Healed/Game', 'Time Played', \n",
    "         'Time Played/Day', 'Time on fire', 'Avg Time on Fire', 'Avg Obj Time', 'Avg Obj Kills', \n",
    "         'Cards', 'Avg Medals/Game', 'Gold', 'Silver', 'Bronze']\n",
    "data = {}\n",
    "i = 0\n",
    "for DBid in df['DBid']:\n",
    "    url = 'https://overwatch.op.gg/detail/overview/{}'.format(DBid)\n",
    "    resp = requests.get(url)\n",
    "\n",
    "    soup = BeautifulSoup(resp.text)\n",
    "    \n",
    "    \n",
    "    # 종합 통계\n",
    "    summary_stats = soup.find('div', class_='PlayerSideSummaryStats')\n",
    "    # 가끔씩 프로필 비공개로 바꾸는 사람이 있기에 해당 DBid는 넘어가자\n",
    "    if summary_stats == None:\n",
    "        continue\n",
    "    # DBid 추가\n",
    "    if 'DBid' in data:\n",
    "        data['DBid'].append(DBid)\n",
    "    else:\n",
    "        data['DBid'] = [DBid]\n",
    "        \n",
    "    # 종합 통계\n",
    "    stat_list = summary_stats.find_all('li')[4:17] # 내가 확인해보고 싶은 리스트의 자리가 5번째 ~ 17번째에 있다.\n",
    "    for stat in stat_list:\n",
    "        b = stat.find('b').get_text() # lavel\n",
    "        span = stat.find('span').get_text() # content\n",
    "        \n",
    "        if b in data:\n",
    "            data[b].append(span)\n",
    "        else:\n",
    "            data[b] = [span]\n",
    "\n",
    "    # 진행사항\n",
    "    i += 1\n",
    "    print(round(i/df['DBid'].count(),2))\n",
    "    clear_output(wait=True)\n",
    "print('Complete')"
   ]
  },
  {
   "cell_type": "code",
   "execution_count": null,
   "metadata": {},
   "outputs": [],
   "source": [
    "detail_df = pd.DataFrame(data)\n",
    "detail_df\n",
    "# data\n",
    "# detail_df.to_csv('detail.csv')"
   ]
  },
  {
   "cell_type": "markdown",
   "metadata": {},
   "source": [
    "# 전처리"
   ]
  },
  {
   "cell_type": "markdown",
   "metadata": {},
   "source": [
    "## 리더보드 테이블"
   ]
  },
  {
   "cell_type": "markdown",
   "metadata": {},
   "source": [
    "### 변수 불필요한 문자열 제거"
   ]
  },
  {
   "cell_type": "code",
   "execution_count": null,
   "metadata": {},
   "outputs": [],
   "source": [
    "# Rank\n",
    "df['Rank'] = df['Rank'].str.replace(',', '')\n",
    "df['Rank']"
   ]
  },
  {
   "cell_type": "code",
   "execution_count": null,
   "metadata": {
    "scrolled": false
   },
   "outputs": [],
   "source": [
    "# K/D 컬럼\n",
    "df['K/D'] = df['K/D'].str.replace(': 1', '')\n",
    "df['K/D']"
   ]
  },
  {
   "cell_type": "code",
   "execution_count": null,
   "metadata": {
    "scrolled": true
   },
   "outputs": [],
   "source": [
    "# Level\n",
    "df['Level'] = df['Level'].str.replace('Lv.', '')\n",
    "df['Level']"
   ]
  },
  {
   "cell_type": "code",
   "execution_count": null,
   "metadata": {
    "scrolled": true
   },
   "outputs": [],
   "source": [
    "# Kill/Death\n",
    "df['Kill/Death'] = df['Kill/Death'].str.replace('\\n', '')\n",
    "\n",
    "# separate\n",
    "new = df['Kill/Death'].str.split('/', expand=True)\n",
    "df['Kill'] = new[0]\n",
    "df['Death'] = new[1]\n",
    "\n",
    "df[['Kill/Death', 'Kill', 'Death']]"
   ]
  },
  {
   "cell_type": "code",
   "execution_count": null,
   "metadata": {
    "scrolled": false
   },
   "outputs": [],
   "source": [
    "# rating\n",
    "df['Rating'] = df['Rating'].str.replace('\\n', '').str.strip()\n",
    "df['Rating']"
   ]
  },
  {
   "cell_type": "code",
   "execution_count": null,
   "metadata": {
    "scrolled": true
   },
   "outputs": [],
   "source": [
    "# Time on Fire\n",
    "df['Time_on_Fire'] = df['Time_on_Fire'].str.replace('\\n', '').str.strip()\n",
    "time = df['Time_on_Fire'].str.split(':')\n",
    "\n",
    "def to_seconds(x):\n",
    "    # error\n",
    "    if len(x) != 2:\n",
    "        return -1\n",
    "    \n",
    "    x = list(map(int, x))\n",
    "    result = 0\n",
    "    # 1 min = 60 sec\n",
    "    if x[0] > 0:\n",
    "        result = 60 * x[0]\n",
    "    result += x[1]\n",
    "    return(result)\n",
    "\n",
    "df['Time_on_Fire'] = time.apply(to_seconds)"
   ]
  },
  {
   "cell_type": "code",
   "execution_count": null,
   "metadata": {
    "scrolled": true
   },
   "outputs": [],
   "source": [
    "df['Time_on_Fire']"
   ]
  },
  {
   "cell_type": "code",
   "execution_count": null,
   "metadata": {
    "scrolled": true
   },
   "outputs": [],
   "source": [
    "# Win\n",
    "df['Win'] = df['Win'].str.replace('W', '').str.strip()\n",
    "df['Win']"
   ]
  },
  {
   "cell_type": "code",
   "execution_count": null,
   "metadata": {
    "scrolled": true
   },
   "outputs": [],
   "source": [
    "# Lose\n",
    "df['Lose'] = df['Lose'].str.replace('L', '')\n",
    "df['Lose']"
   ]
  },
  {
   "cell_type": "code",
   "execution_count": null,
   "metadata": {
    "scrolled": false
   },
   "outputs": [],
   "source": [
    "# PlayTime\n",
    "df['Playtime'] = df['Playtime'].str.replace('hour[s]*', '')\n",
    "# 1시간도 하지 않은 관측치 수정\n",
    "mins_player = df['Playtime'].str.contains('mins')\n",
    "def mins_to_hours(x):\n",
    "    print(x, '가 검출되었습니다')\n",
    "    x = x.replace('mins','').strip()\n",
    "    x = int(x)/60\n",
    "    return str(round(x,2))\n",
    "\n",
    "\n",
    "# 해당 관측치의 Playtime만 수정한다\n",
    "if len(df.loc[mins_player]) > 0:\n",
    "    df.loc[mins_player, 'Playtime'] = df.loc[mins_player, 'Playtime'].apply(mins_to_hours)\n",
    "    \n",
    "    \n",
    "df[mins_player]"
   ]
  },
  {
   "cell_type": "code",
   "execution_count": null,
   "metadata": {},
   "outputs": [],
   "source": [
    "df"
   ]
  },
  {
   "cell_type": "markdown",
   "metadata": {},
   "source": [
    "### 데이터 형변환"
   ]
  },
  {
   "cell_type": "code",
   "execution_count": null,
   "metadata": {},
   "outputs": [],
   "source": [
    "df.info()"
   ]
  },
  {
   "cell_type": "code",
   "execution_count": null,
   "metadata": {
    "scrolled": true
   },
   "outputs": [],
   "source": [
    "# float\n",
    "df[['K/D', 'Kill', 'Death', 'Win', 'Lose', 'Playtime']] = df[['K/D', 'Kill', 'Death', 'Win', 'Lose', 'Playtime']].astype(float)\n",
    "print(df[['K/D', 'Kill', 'Death', 'Win', 'Lose', 'Playtime']].dtypes)\n",
    "\n",
    "# int\n",
    "df[['Win_rate', 'Level', 'Rating', 'Rank']] = df[['Win_rate', 'Level', 'Rating', 'Rank']].astype(int)\n",
    "print(df[['Win_rate', 'Level', 'Rating', 'Rank']].dtypes)"
   ]
  },
  {
   "cell_type": "code",
   "execution_count": null,
   "metadata": {},
   "outputs": [],
   "source": [
    "df.info()"
   ]
  },
  {
   "cell_type": "code",
   "execution_count": null,
   "metadata": {
    "scrolled": true
   },
   "outputs": [],
   "source": [
    "# 불필요한 변수 삭제\n",
    "del df['Kill/Death']\n",
    "del df['Platform']"
   ]
  },
  {
   "cell_type": "code",
   "execution_count": null,
   "metadata": {},
   "outputs": [],
   "source": [
    "# 컬럼 순서 바꾸기\n",
    "df = pd.DataFrame(df, columns=['Rank', 'Nickname', 'Rating', 'Win', 'Lose', 'Win_rate', 'Kill', 'Death', \n",
    "                          'K/D', 'Time_on_Fire', 'Level', 'Playtime', 'Most1', 'Most2', 'Most3'])\n",
    "df"
   ]
  },
  {
   "cell_type": "markdown",
   "metadata": {},
   "source": [
    "### 변수 생성 "
   ]
  },
  {
   "cell_type": "code",
   "execution_count": null,
   "metadata": {
    "scrolled": false
   },
   "outputs": [],
   "source": [
    "# 티어 변수 생성\n",
    "bins = [0, 1500, 2000, 2500, 3000, 3500, 4000, 5000]\n",
    "labels = ['bronze', 'silver', 'gold', 'platinum', 'diamond', 'master', 'grand_master']\n",
    "df['Tire'] = pd.cut(df['Rating'], bins, labels=labels)\n",
    "\n",
    "\n",
    "# 상위 1위 ~ 500위는 순위 자체가 티어가 된다.\n",
    "df['Tire'] = df['Tire'].astype(str)\n",
    "df.loc[df['Rank'] <= 500, 'Tire'] = df.loc[df['Rank'] <= 500,'Rank'].astype(str)\n",
    "df.iloc[490:510, :]"
   ]
  },
  {
   "cell_type": "code",
   "execution_count": null,
   "metadata": {},
   "outputs": [],
   "source": [
    "df.to_csv('rank.csv')"
   ]
  },
  {
   "cell_type": "markdown",
   "metadata": {},
   "source": [
    "## 상세 테이블"
   ]
  },
  {
   "cell_type": "code",
   "execution_count": null,
   "metadata": {},
   "outputs": [],
   "source": [
    "detail_df"
   ]
  }
 ],
 "metadata": {
  "kernelspec": {
   "display_name": "Python 3",
   "language": "python",
   "name": "python3"
  },
  "language_info": {
   "codemirror_mode": {
    "name": "ipython",
    "version": 3
   },
   "file_extension": ".py",
   "mimetype": "text/x-python",
   "name": "python",
   "nbconvert_exporter": "python",
   "pygments_lexer": "ipython3",
   "version": "3.7.6"
  }
 },
 "nbformat": 4,
 "nbformat_minor": 4
}
